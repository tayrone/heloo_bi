{
 "cells": [
  {
   "cell_type": "markdown",
   "metadata": {},
   "source": [
    "Primeiro, importamos a biblioteca \"psycopg2\", que é utilizada para fazer a conexão do script com a base de dados do PostgreSQL."
   ]
  },
  {
   "cell_type": "code",
   "execution_count": 3,
   "metadata": {},
   "outputs": [],
   "source": [
    "import psycopg2\n",
    "import names\n",
    "import random as r\n",
    "import phonenumbers\n",
    "import pandas as pd"
   ]
  },
  {
   "cell_type": "markdown",
   "metadata": {},
   "source": [
    "Criada a database no pgAdmin, possível fazer a conexão."
   ]
  },
  {
   "cell_type": "code",
   "execution_count": 4,
   "metadata": {},
   "outputs": [],
   "source": [
    "DB_NAME = \"heloo_bi\"\n",
    "DB_USER = \"postgres\"\n",
    "DB_PASS = \"tayrone250595\"\n",
    "DB_HOST = \"localhost\"\n",
    "\n",
    "conn = psycopg2.connect(dbname = DB_NAME, user = DB_USER, password = DB_PASS, host = DB_HOST)"
   ]
  },
  {
   "cell_type": "markdown",
   "metadata": {},
   "source": [
    "O cursor é o objeto utilizado para executar os comandos SQL."
   ]
  },
  {
   "cell_type": "code",
   "execution_count": 5,
   "metadata": {},
   "outputs": [],
   "source": [
    "cursor = conn.cursor()"
   ]
  },
  {
   "cell_type": "markdown",
   "metadata": {},
   "source": [
    "Primeiro, todas as tabelas são criadas, como sugeridas na descrição do teste."
   ]
  },
  {
   "cell_type": "code",
   "execution_count": 40,
   "metadata": {},
   "outputs": [],
   "source": [
    "# cursor.execute('''CREATE TABLE medicos(\n",
    "#     id BIGSERIAL NOT NULL PRIMARY KEY,\n",
    "#     crm TEXT,\n",
    "#     nome TEXT,\n",
    "#     especialidade TEXT,\n",
    "#     telefone TEXT\n",
    "#     );''')\n",
    "\n",
    "# cursor.execute('''CREATE TABLE pacientes(\n",
    "#     id BIGSERIAL NOT NULL PRIMARY KEY,\n",
    "#     nome TEXT,\n",
    "#     telefone TEXT\n",
    "#     );''')\n",
    "\n",
    "# cursor.execute('''CREATE TABLE consultas_situacoes(\n",
    "#     id BIGSERIAL NOT NULL PRIMARY KEY,\n",
    "#     nome TEXT NOT NULL\n",
    "#     );''')\n",
    "\n",
    "# cursor.execute('''CREATE TABLE cidades(\n",
    "#     id BIGSERIAL NOT NULL PRIMARY KEY,\n",
    "#     nome TEXT NOT NULL,\n",
    "#     estado_sigla TEXT NOT NULL\n",
    "#     );''')\n",
    "\n",
    "# cursor.execute('''CREATE TABLE consultas(\n",
    "#     id BIGSERIAL NOT NULL PRIMARY KEY,\n",
    "#     paciente_id BIGINT NOT NULL REFERENCES pacientes(id), \n",
    "#     medico_id BIGINT NOT NULL REFERENCES medicos(id), \n",
    "#     data_agendamento TIMESTAMP,\n",
    "#     situacao_id BIGINT NOT NULL REFERENCES consultas_situacoes(id), \n",
    "#     cidade_id BIGINT NOT NULL REFERENCES cidades(id)\n",
    "#     );''')\n",
    "\n",
    "# conn.commit()\n"
   ]
  },
  {
   "cell_type": "markdown",
   "metadata": {},
   "source": [
    "Para popular a base de dados, vamos gerar mil entradas para a relação \"Médicos\", usando dados aleatórios.\n",
    "Primeiro, geramos os nome, usando a biblioteca \"names\"."
   ]
  },
  {
   "cell_type": "code",
   "execution_count": 83,
   "metadata": {},
   "outputs": [
    {
     "data": {
      "text/plain": [
       "'Holly Pratt'"
      ]
     },
     "execution_count": 83,
     "metadata": {},
     "output_type": "execute_result"
    }
   ],
   "source": [
    "names.get_full_name()"
   ]
  },
  {
   "cell_type": "markdown",
   "metadata": {},
   "source": [
    "Depois, geramos os números de telefone."
   ]
  },
  {
   "cell_type": "code",
   "execution_count": 7,
   "metadata": {},
   "outputs": [
    {
     "data": {
      "text/plain": [
       "988657806"
      ]
     },
     "execution_count": 7,
     "metadata": {},
     "output_type": "execute_result"
    }
   ],
   "source": [
    "def gerar_telefone():\n",
    "    telefone = []\n",
    "    \n",
    "    # O primeiro número é 9\n",
    "    telefone.append(9)\n",
    "\n",
    "    # Os dois próximos são 88 ou 99\n",
    "    telefone.append(r.randint(8, 9))\n",
    "    telefone.append(telefone[1])\n",
    "\n",
    "    # O restante são números de 0 a 9\n",
    "\n",
    "    for i in range(3, 9):\n",
    "        telefone.append(r.randint(0, 9))\n",
    "    \n",
    "\n",
    "    telefone = int(''.join(map(str, telefone)))\n",
    "    return telefone\n",
    "\n",
    "gerar_telefone()"
   ]
  },
  {
   "cell_type": "code",
   "execution_count": null,
   "metadata": {},
   "outputs": [],
   "source": [
    "Agora, geramos os CRM."
   ]
  },
  {
   "cell_type": "code",
   "execution_count": 8,
   "metadata": {},
   "outputs": [
    {
     "data": {
      "text/plain": [
       "'CRM4302/PB'"
      ]
     },
     "execution_count": 8,
     "metadata": {},
     "output_type": "execute_result"
    }
   ],
   "source": [
    "def gerar_crm():\n",
    "    crm = []\n",
    "\n",
    "    crm.append('CRM')\n",
    "\n",
    "    for i in range(0, 4):\n",
    "        crm.append(r.randint(0, 9))\n",
    "\n",
    "    crm.append('/PB')   \n",
    "\n",
    "    crm = (''.join(map(str, crm)))\n",
    "\n",
    "    return crm\n",
    "\n",
    "gerar_crm()"
   ]
  },
  {
   "cell_type": "markdown",
   "metadata": {},
   "source": [
    "Para as especialidades, usando a lista com todas as 55 especialidades existentes do Conselhor Federal de Medicina."
   ]
  },
  {
   "cell_type": "code",
   "execution_count": 9,
   "metadata": {},
   "outputs": [
    {
     "data": {
      "text/plain": [
       "['Acupuntura',\n",
       " 'Alergia e imunologia',\n",
       " 'Anestesiologia',\n",
       " 'Angiologia',\n",
       " 'Cardiologia']"
      ]
     },
     "execution_count": 9,
     "metadata": {},
     "output_type": "execute_result"
    }
   ],
   "source": [
    "with open(\"especialidades.txt\") as file:\n",
    "    especialidades = file.readlines()\n",
    "    especialidades = [line.rstrip() for line in especialidades]\n",
    "\n",
    "especialidades[0:5]"
   ]
  },
  {
   "cell_type": "markdown",
   "metadata": {},
   "source": [
    "Agora, podemos definir um dataframe contendo mil instâncias a serem inseridas na relação Médicos."
   ]
  },
  {
   "cell_type": "code",
   "execution_count": 11,
   "metadata": {},
   "outputs": [],
   "source": [
    "populacao_medicos = []\n",
    "\n",
    "for i in range(0, 1000):\n",
    "    instancia_medico = (gerar_crm(), names.get_full_name(), r.choice(especialidades), gerar_telefone())\n",
    "\n",
    "    populacao_medicos.append(instancia_medico)\n",
    "\n",
    "populacao_medicos = pd.DataFrame(populacao_medicos, columns = ['crm', 'nome', 'especialidade', 'telefone'])"
   ]
  },
  {
   "cell_type": "code",
   "execution_count": 12,
   "metadata": {},
   "outputs": [
    {
     "ename": "TypeError",
     "evalue": "argument 1 must have a .read() method",
     "output_type": "error",
     "traceback": [
      "\u001b[0;31m---------------------------------------------------------------------------\u001b[0m",
      "\u001b[0;31mTypeError\u001b[0m                                 Traceback (most recent call last)",
      "\u001b[0;32m/var/folders/r4/ffp5q_r11jg085l4scxy233r0000gn/T/ipykernel_10262/3540683042.py\u001b[0m in \u001b[0;36m<module>\u001b[0;34m\u001b[0m\n\u001b[0;32m----> 1\u001b[0;31m \u001b[0mcursor\u001b[0m\u001b[0;34m.\u001b[0m\u001b[0mcopy_from\u001b[0m\u001b[0;34m(\u001b[0m\u001b[0mpopulacao_medicos\u001b[0m\u001b[0;34m,\u001b[0m \u001b[0mtable\u001b[0m \u001b[0;34m=\u001b[0m \u001b[0;34m'medicos'\u001b[0m\u001b[0;34m,\u001b[0m \u001b[0mcolumns\u001b[0m \u001b[0;34m=\u001b[0m \u001b[0;34m[\u001b[0m\u001b[0;34m'crm'\u001b[0m\u001b[0;34m,\u001b[0m \u001b[0;34m'nome'\u001b[0m\u001b[0;34m,\u001b[0m \u001b[0;34m'especialidade'\u001b[0m\u001b[0;34m,\u001b[0m \u001b[0;34m'telefone'\u001b[0m\u001b[0;34m]\u001b[0m\u001b[0;34m)\u001b[0m\u001b[0;34m\u001b[0m\u001b[0;34m\u001b[0m\u001b[0m\n\u001b[0m",
      "\u001b[0;31mTypeError\u001b[0m: argument 1 must have a .read() method"
     ]
    }
   ],
   "source": [
    "cursor.copy_from(populacao_medicos, table = 'medicos', columns = ['crm', 'nome', 'especialidade', 'telefone'])"
   ]
  },
  {
   "cell_type": "code",
   "execution_count": 29,
   "metadata": {},
   "outputs": [],
   "source": [
    "cursor.close()\n",
    "\n",
    "conn.close()"
   ]
  }
 ],
 "metadata": {
  "interpreter": {
   "hash": "aee8b7b246df8f9039afb4144a1f6fd8d2ca17a180786b69acc140d282b71a49"
  },
  "kernelspec": {
   "display_name": "Python 3.9.2 64-bit",
   "name": "python3"
  },
  "language_info": {
   "codemirror_mode": {
    "name": "ipython",
    "version": 3
   },
   "file_extension": ".py",
   "mimetype": "text/x-python",
   "name": "python",
   "nbconvert_exporter": "python",
   "pygments_lexer": "ipython3",
   "version": "3.9.1"
  },
  "orig_nbformat": 4
 },
 "nbformat": 4,
 "nbformat_minor": 2
}
