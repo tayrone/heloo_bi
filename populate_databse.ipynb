{
 "cells": [
  {
   "cell_type": "markdown",
   "metadata": {},
   "source": [
    "# Criação e preenchimento das relações na base de dados"
   ]
  },
  {
   "cell_type": "markdown",
   "metadata": {},
   "source": [
    "Primeiro, importamos a biblioteca \"psycopg2\", que é utilizada para fazer a conexão do script com a base de dados do PostgreSQL."
   ]
  },
  {
   "cell_type": "code",
   "execution_count": 1,
   "metadata": {},
   "outputs": [
    {
     "name": "stderr",
     "output_type": "stream",
     "text": [
      "/Users/tayronemonteiro/Desktop/python_projects/heloo_bi/.venv/lib/python3.9/site-packages/pandas/compat/__init__.py:124: UserWarning: Could not import the lzma module. Your installed Python is incomplete. Attempting to use lzma compression will result in a RuntimeError.\n",
      "  warnings.warn(msg)\n"
     ]
    }
   ],
   "source": [
    "import psycopg2\n",
    "import names\n",
    "import random as r\n",
    "import pandas as pd\n",
    "import datetime"
   ]
  },
  {
   "cell_type": "markdown",
   "metadata": {},
   "source": [
    "Criada a database no pgAdmin, possível fazer a conexão."
   ]
  },
  {
   "cell_type": "code",
   "execution_count": 3,
   "metadata": {},
   "outputs": [],
   "source": [
    "DB_NAME = \"heloo_bi\"\n",
    "DB_USER = \"postgres\"\n",
    "DB_PASS = \"tayrone250595\"\n",
    "DB_HOST = \"localhost\"\n",
    "\n",
    "conn = psycopg2.connect(dbname = DB_NAME, user = DB_USER, password = DB_PASS, host = DB_HOST)"
   ]
  },
  {
   "cell_type": "markdown",
   "metadata": {},
   "source": [
    "O cursor é o objeto utilizado para executar os comandos SQL."
   ]
  },
  {
   "cell_type": "code",
   "execution_count": 4,
   "metadata": {},
   "outputs": [],
   "source": [
    "cursor = conn.cursor()"
   ]
  },
  {
   "cell_type": "markdown",
   "metadata": {},
   "source": [
    "Primeiro, todas as tabelas são criadas, como sugeridas na descrição do teste."
   ]
  },
  {
   "cell_type": "code",
   "execution_count": null,
   "metadata": {},
   "outputs": [],
   "source": [
    "cursor.execute('''CREATE TABLE medicos(\n",
    "    id BIGSERIAL NOT NULL PRIMARY KEY,\n",
    "    crm TEXT,\n",
    "    nome TEXT,\n",
    "    especialidade TEXT,\n",
    "    telefone TEXT\n",
    "    );''')\n",
    "\n",
    "cursor.execute('''CREATE TABLE pacientes(\n",
    "    id BIGSERIAL NOT NULL PRIMARY KEY,\n",
    "    nome TEXT,\n",
    "    telefone TEXT\n",
    "    );''')\n",
    "\n",
    "cursor.execute('''CREATE TABLE consultas_situacoes(\n",
    "    id BIGSERIAL NOT NULL PRIMARY KEY,\n",
    "    nome TEXT NOT NULL\n",
    "    );''')\n",
    "\n",
    "cursor.execute('''CREATE TABLE cidades(\n",
    "    id BIGSERIAL NOT NULL PRIMARY KEY,\n",
    "    nome TEXT NOT NULL,\n",
    "    estado_sigla TEXT NOT NULL\n",
    "    );''')\n",
    "\n",
    "cursor.execute('''CREATE TABLE consultas(\n",
    "    id BIGSERIAL NOT NULL PRIMARY KEY,\n",
    "    paciente_id BIGINT NOT NULL REFERENCES pacientes(id), \n",
    "    medico_id BIGINT NOT NULL REFERENCES medicos(id), \n",
    "    data_agendamento TIMESTAMP,\n",
    "    situacao_id BIGINT NOT NULL REFERENCES consultas_situacoes(id), \n",
    "    cidade_id BIGINT NOT NULL REFERENCES cidades(id)\n",
    "    );''')\n",
    "\n",
    "conn.commit()\n"
   ]
  },
  {
   "cell_type": "markdown",
   "metadata": {},
   "source": [
    "Para popular a base de dados, vamos gerar mil entradas para a relação \"Médicos\", usando dados aleatórios.\n",
    "Primeiro, geramos os nome, usando a biblioteca \"names\"."
   ]
  },
  {
   "cell_type": "code",
   "execution_count": 5,
   "metadata": {},
   "outputs": [
    {
     "data": {
      "text/plain": [
       "'Eugene Carl'"
      ]
     },
     "execution_count": 5,
     "metadata": {},
     "output_type": "execute_result"
    }
   ],
   "source": [
    "names.get_full_name()"
   ]
  },
  {
   "cell_type": "markdown",
   "metadata": {},
   "source": [
    "Depois, geramos os números de telefone."
   ]
  },
  {
   "cell_type": "code",
   "execution_count": 6,
   "metadata": {},
   "outputs": [
    {
     "data": {
      "text/plain": [
       "988718260"
      ]
     },
     "execution_count": 6,
     "metadata": {},
     "output_type": "execute_result"
    }
   ],
   "source": [
    "def gerar_telefone():\n",
    "    telefone = []\n",
    "    \n",
    "    # O primeiro número é 9\n",
    "    telefone.append(9)\n",
    "\n",
    "    # Os dois próximos são 88 ou 99\n",
    "    telefone.append(r.randint(8, 9))\n",
    "    telefone.append(telefone[1])\n",
    "\n",
    "    # O restante são números de 0 a 9\n",
    "\n",
    "    for i in range(3, 9):\n",
    "        telefone.append(r.randint(0, 9))\n",
    "    \n",
    "\n",
    "    telefone = int(''.join(map(str, telefone)))\n",
    "    return telefone\n",
    "\n",
    "gerar_telefone()"
   ]
  },
  {
   "cell_type": "markdown",
   "metadata": {},
   "source": [
    "Agora, geramos os CRM."
   ]
  },
  {
   "cell_type": "code",
   "execution_count": 7,
   "metadata": {},
   "outputs": [
    {
     "data": {
      "text/plain": [
       "'CRM4804/PB'"
      ]
     },
     "execution_count": 7,
     "metadata": {},
     "output_type": "execute_result"
    }
   ],
   "source": [
    "def gerar_crm():\n",
    "    crm = []\n",
    "\n",
    "    crm.append('CRM')\n",
    "\n",
    "    for i in range(0, 4):\n",
    "        crm.append(r.randint(0, 9))\n",
    "\n",
    "    crm.append('/PB')   \n",
    "\n",
    "    crm = (''.join(map(str, crm)))\n",
    "\n",
    "    return crm\n",
    "\n",
    "gerar_crm()"
   ]
  },
  {
   "cell_type": "markdown",
   "metadata": {},
   "source": [
    "Para as especialidades, usando a lista com todas as 55 especialidades existentes do Conselhor Federal de Medicina."
   ]
  },
  {
   "cell_type": "code",
   "execution_count": 8,
   "metadata": {},
   "outputs": [
    {
     "data": {
      "text/plain": [
       "['Acupuntura',\n",
       " 'Alergia e imunologia',\n",
       " 'Anestesiologia',\n",
       " 'Angiologia',\n",
       " 'Cardiologia']"
      ]
     },
     "execution_count": 8,
     "metadata": {},
     "output_type": "execute_result"
    }
   ],
   "source": [
    "with open(\"./dados/especialidades.txt\") as file:\n",
    "    especialidades = file.readlines()\n",
    "    especialidades = [line.rstrip() for line in especialidades]\n",
    "\n",
    "especialidades[0:5]"
   ]
  },
  {
   "cell_type": "code",
   "execution_count": 9,
   "metadata": {},
   "outputs": [],
   "source": [
    "for i in range(0, 100):\n",
    "    instancia_medico = (gerar_crm(), names.get_full_name(), r.choice(especialidades), gerar_telefone())\n",
    "\n",
    "    cursor.execute('INSERT INTO medicos (crm, nome, especialidade, telefone) VALUES (%s, %s, %s, %s)', \n",
    "                   instancia_medico)\n",
    "\n",
    "conn.commit()"
   ]
  },
  {
   "cell_type": "markdown",
   "metadata": {},
   "source": [
    "Seguimos preenchendo as outras relações, de forma semelhante. Pacientes:"
   ]
  },
  {
   "cell_type": "code",
   "execution_count": 10,
   "metadata": {},
   "outputs": [],
   "source": [
    "for i in range(0, 100):\n",
    "    instancia_paciente = (names.get_full_name(), gerar_telefone())\n",
    "\n",
    "    cursor.execute('INSERT INTO pacientes (nome, telefone) VALUES (%s, %s)', \n",
    "                   instancia_paciente)\n",
    "\n",
    "conn.commit()"
   ]
  },
  {
   "cell_type": "markdown",
   "metadata": {},
   "source": [
    "Situações de consultas:"
   ]
  },
  {
   "cell_type": "code",
   "execution_count": 11,
   "metadata": {},
   "outputs": [],
   "source": [
    "pendente = ('Pendente',)\n",
    "executada = ('Executada',)\n",
    "cancelada = ('Cancelada',)\n",
    "\n",
    "\n",
    "cursor.execute('INSERT INTO consultas_situacoes (nome) VALUES (%s)', \n",
    "               pendente)\n",
    "\n",
    "cursor.execute('INSERT INTO consultas_situacoes (nome) VALUES (%s)', \n",
    "               executada)\n",
    "\n",
    "cursor.execute('INSERT INTO consultas_situacoes (nome) VALUES (%s)', \n",
    "               cancelada)\n",
    "\n",
    "conn.commit()\n",
    "    "
   ]
  },
  {
   "cell_type": "markdown",
   "metadata": {},
   "source": [
    "Cidades:"
   ]
  },
  {
   "cell_type": "code",
   "execution_count": 12,
   "metadata": {},
   "outputs": [
    {
     "data": {
      "text/html": [
       "<div>\n",
       "<style scoped>\n",
       "    .dataframe tbody tr th:only-of-type {\n",
       "        vertical-align: middle;\n",
       "    }\n",
       "\n",
       "    .dataframe tbody tr th {\n",
       "        vertical-align: top;\n",
       "    }\n",
       "\n",
       "    .dataframe thead th {\n",
       "        text-align: right;\n",
       "    }\n",
       "</style>\n",
       "<table border=\"1\" class=\"dataframe\">\n",
       "  <thead>\n",
       "    <tr style=\"text-align: right;\">\n",
       "      <th></th>\n",
       "      <th>UF</th>\n",
       "      <th>Município</th>\n",
       "    </tr>\n",
       "  </thead>\n",
       "  <tbody>\n",
       "    <tr>\n",
       "      <th>0</th>\n",
       "      <td>RO</td>\n",
       "      <td>Alta Floresta D´oeste</td>\n",
       "    </tr>\n",
       "    <tr>\n",
       "      <th>1</th>\n",
       "      <td>RO</td>\n",
       "      <td>Ariquemes</td>\n",
       "    </tr>\n",
       "    <tr>\n",
       "      <th>2</th>\n",
       "      <td>RO</td>\n",
       "      <td>Cabixi</td>\n",
       "    </tr>\n",
       "    <tr>\n",
       "      <th>3</th>\n",
       "      <td>RO</td>\n",
       "      <td>Cacoal</td>\n",
       "    </tr>\n",
       "    <tr>\n",
       "      <th>4</th>\n",
       "      <td>RO</td>\n",
       "      <td>Cerejeiras</td>\n",
       "    </tr>\n",
       "  </tbody>\n",
       "</table>\n",
       "</div>"
      ],
      "text/plain": [
       "   UF              Município\n",
       "0  RO  Alta Floresta D´oeste\n",
       "1  RO              Ariquemes\n",
       "2  RO                 Cabixi\n",
       "3  RO                 Cacoal\n",
       "4  RO             Cerejeiras"
      ]
     },
     "execution_count": 12,
     "metadata": {},
     "output_type": "execute_result"
    }
   ],
   "source": [
    "municipios_brasil = pd.read_csv(\"./dados/municipios_brasil.txt\", sep = \";\", usecols=['UF', 'Município'])\n",
    "municipios_brasil[:5]"
   ]
  },
  {
   "cell_type": "markdown",
   "metadata": {},
   "source": [
    "Foi usada a lista de todos os municípios brasileiros, provida pelo governo federal (http://blog.mds.gov.br/redesuas/lista-de-municipios-brasileiros/)."
   ]
  },
  {
   "cell_type": "code",
   "execution_count": 15,
   "metadata": {},
   "outputs": [],
   "source": [
    "for i in range(0, 1000):\n",
    "\n",
    "    cidade = municipios_brasil.sample()\n",
    "        \n",
    "    instancia_cidade = (cidade['Município'].item(), cidade['UF'].item())\n",
    "        \n",
    "    cursor.execute('INSERT INTO cidades (nome, estado_sigla) VALUES (%s, %s)', \n",
    "                   instancia_cidade)\n",
    "\n",
    "\n",
    "conn.commit()"
   ]
  },
  {
   "cell_type": "markdown",
   "metadata": {},
   "source": [
    "Consultas:"
   ]
  },
  {
   "cell_type": "code",
   "execution_count": 16,
   "metadata": {},
   "outputs": [],
   "source": [
    "def gerar_data(): # essa função gera uma data aleatória no ano de 2021\n",
    "    data_inicio = datetime.date(2021, 1, 1)\n",
    "\n",
    "    numero_aleatorio_dias = r.randrange(start = 0, stop = 364)\n",
    "    data_aleatoria = data_inicio + datetime.timedelta(days = numero_aleatorio_dias)\n",
    "\n",
    "    return data_aleatoria\n"
   ]
  },
  {
   "cell_type": "code",
   "execution_count": 17,
   "metadata": {},
   "outputs": [],
   "source": [
    "for i in range(0, 1000):\n",
    "    \n",
    "    instancia_consulta = (r.randint(1, 100), r.randint(1, 100), gerar_data(), \n",
    "                          r.randint(1, 3), r.randint(1, 1000))\n",
    "\n",
    "    cursor.execute('''INSERT INTO consultas (paciente_id, medico_id, data_agendamento, situacao_id, cidade_id) \n",
    "                    VALUES (%s, %s, %s, %s, %s)''', instancia_consulta)\n",
    "\n",
    "\n",
    "conn.commit()"
   ]
  },
  {
   "cell_type": "markdown",
   "metadata": {},
   "source": [
    "Agora, com todas as tabelas criadas e preenchidas, podemo encerrar a conexão com a base de dados."
   ]
  },
  {
   "cell_type": "code",
   "execution_count": 18,
   "metadata": {},
   "outputs": [],
   "source": [
    "cursor.close()\n",
    "\n",
    "conn.close()"
   ]
  }
 ],
 "metadata": {
  "interpreter": {
   "hash": "aee8b7b246df8f9039afb4144a1f6fd8d2ca17a180786b69acc140d282b71a49"
  },
  "kernelspec": {
   "display_name": "Python 3.9.2 64-bit",
   "name": "python3"
  },
  "language_info": {
   "codemirror_mode": {
    "name": "ipython",
    "version": 3
   },
   "file_extension": ".py",
   "mimetype": "text/x-python",
   "name": "python",
   "nbconvert_exporter": "python",
   "pygments_lexer": "ipython3",
   "version": "3.9.1"
  },
  "orig_nbformat": 4
 },
 "nbformat": 4,
 "nbformat_minor": 2
}
