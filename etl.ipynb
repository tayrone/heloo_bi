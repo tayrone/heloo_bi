{
 "cells": [
  {
   "cell_type": "markdown",
   "metadata": {},
   "source": [
    "# Processos de ETL"
   ]
  },
  {
   "cell_type": "markdown",
   "metadata": {},
   "source": [
    "Para realizar os processos de extração e transformação, usaremos a linguagem Python. Depois disso, as tabelas serão salvas em arquivos .csv, para depois serem diretamente carregadas no Power BI."
   ]
  },
  {
   "cell_type": "code",
   "execution_count": 1,
   "metadata": {},
   "outputs": [
    {
     "name": "stderr",
     "output_type": "stream",
     "text": [
      "/Users/tayronemonteiro/Desktop/python_projects/heloo_bi/.venv/lib/python3.9/site-packages/pandas/compat/__init__.py:124: UserWarning: Could not import the lzma module. Your installed Python is incomplete. Attempting to use lzma compression will result in a RuntimeError.\n",
      "  warnings.warn(msg)\n"
     ]
    }
   ],
   "source": [
    "import psycopg2\n",
    "import pandas as pd\n"
   ]
  },
  {
   "cell_type": "markdown",
   "metadata": {},
   "source": [
    "Primeiro, vamos nos conectar ao banco de dados."
   ]
  },
  {
   "cell_type": "code",
   "execution_count": 2,
   "metadata": {},
   "outputs": [],
   "source": [
    "DB_NAME = \"heloo_bi\"\n",
    "DB_USER = \"postgres\"\n",
    "DB_PASS = \"tayrone250595\"\n",
    "DB_HOST = \"localhost\"\n",
    "\n",
    "conn = psycopg2.connect(dbname = DB_NAME, user = DB_USER, password = DB_PASS, host = DB_HOST)\n",
    "\n",
    "cursor = conn.cursor()"
   ]
  },
  {
   "cell_type": "markdown",
   "metadata": {},
   "source": [
    "Tabela \"médicos\":"
   ]
  },
  {
   "cell_type": "code",
   "execution_count": 3,
   "metadata": {},
   "outputs": [],
   "source": [
    "cursor.execute('SELECT * FROM medicos')\n",
    "medicos = pd.DataFrame(cursor.fetchall(), columns = ['id', 'crm', 'nome', 'especialidade', 'telefone'])"
   ]
  },
  {
   "cell_type": "markdown",
   "metadata": {},
   "source": [
    "Como um exemplo de transformação para a tabela \"médicos\", podemos remover as porções \"CRM\" e \"/PB\" dos valores da variável \"crm\", e transformá-la em uma variável numérica, onde o CRM é representado apenas com um número de quatro algarismos."
   ]
  },
  {
   "cell_type": "code",
   "execution_count": 4,
   "metadata": {},
   "outputs": [
    {
     "name": "stderr",
     "output_type": "stream",
     "text": [
      "/var/folders/r4/ffp5q_r11jg085l4scxy233r0000gn/T/ipykernel_7881/2901448730.py:1: FutureWarning: The default value of regex will change from True to False in a future version.\n",
      "  medicos['crm'] = medicos['crm'].str.replace('[^0-9]', '')\n"
     ]
    }
   ],
   "source": [
    "medicos['crm'] = medicos['crm'].str.replace('[^0-9]', '')\n",
    "\n",
    "# medicos.to_csv('./tabelas_etl/medicos.csv')"
   ]
  },
  {
   "cell_type": "markdown",
   "metadata": {},
   "source": [
    "Tabela \"pacientes\":"
   ]
  },
  {
   "cell_type": "code",
   "execution_count": 5,
   "metadata": {},
   "outputs": [],
   "source": [
    "cursor.execute('SELECT * FROM pacientes')\n",
    "pacientes = pd.DataFrame(cursor.fetchall(), columns = ['id', 'nome', 'telefone'])\n",
    "\n",
    "# pacientes.to_csv('./tabelas_etl/pacientes.csv')"
   ]
  },
  {
   "cell_type": "markdown",
   "metadata": {},
   "source": [
    "Tabela \"consultas\":"
   ]
  },
  {
   "cell_type": "code",
   "execution_count": 6,
   "metadata": {},
   "outputs": [],
   "source": [
    "cursor.execute('SELECT * FROM consultas')\n",
    "consultas = pd.DataFrame(cursor.fetchall(), \n",
    "                         columns = ['id', 'paciente_id', 'medico_id', 'data_agendamento', 'situacao_id', 'cidade_id'])\n",
    "\n",
    "# consultas.to_csv('./tabelas_etl/consultas.csv')"
   ]
  },
  {
   "cell_type": "markdown",
   "metadata": {},
   "source": [
    "Tabela \"cidades\":"
   ]
  },
  {
   "cell_type": "code",
   "execution_count": 7,
   "metadata": {},
   "outputs": [],
   "source": [
    "cursor.execute('SELECT * FROM cidades')\n",
    "cidades = pd.DataFrame(cursor.fetchall(), columns = ['id', 'nome', 'estado_sigla'])\n",
    "\n",
    "# cidades.to_csv('./tabelas_etl/cidades.csv')"
   ]
  },
  {
   "cell_type": "markdown",
   "metadata": {},
   "source": [
    "Tabela \"consultas_situações\":"
   ]
  },
  {
   "cell_type": "code",
   "execution_count": 8,
   "metadata": {},
   "outputs": [],
   "source": [
    "cursor.execute('SELECT * FROM consultas_situacoes')\n",
    "consultas_situacoes = pd.DataFrame(cursor.fetchall(), columns = ['id', 'nome'])"
   ]
  },
  {
   "cell_type": "markdown",
   "metadata": {},
   "source": [
    "Por fim, fechamos a conexão com a base de dados da qual extraímos os dados."
   ]
  },
  {
   "cell_type": "code",
   "execution_count": 9,
   "metadata": {},
   "outputs": [],
   "source": [
    "cursor.close()\n",
    "\n",
    "conn.close()\n",
    "\n",
    "del cursor\n",
    "del conn"
   ]
  },
  {
   "cell_type": "markdown",
   "metadata": {},
   "source": [
    "Agora, fazemos a conexão com a base que usaremos para carregar os dados."
   ]
  },
  {
   "cell_type": "code",
   "execution_count": 10,
   "metadata": {},
   "outputs": [],
   "source": [
    "DB_NAME = \"heloo_bi_load\"\n",
    "DB_USER = \"postgres\"\n",
    "DB_PASS = \"tayrone250595\"\n",
    "DB_HOST = \"localhost\"\n",
    "\n",
    "conn = psycopg2.connect(dbname = DB_NAME, user = DB_USER, password = DB_PASS, host = DB_HOST)\n",
    "\n",
    "cursor = conn.cursor()"
   ]
  },
  {
   "cell_type": "markdown",
   "metadata": {},
   "source": [
    "Criamos as tabelas também nessa base."
   ]
  },
  {
   "cell_type": "code",
   "execution_count": 11,
   "metadata": {},
   "outputs": [],
   "source": [
    "cursor.execute('''CREATE TABLE medicos(\n",
    "    id BIGSERIAL NOT NULL PRIMARY KEY,\n",
    "    crm TEXT,\n",
    "    nome TEXT,\n",
    "    especialidade TEXT,\n",
    "    telefone TEXT\n",
    "    );''')\n",
    "\n",
    "cursor.execute('''CREATE TABLE pacientes(\n",
    "    id BIGSERIAL NOT NULL PRIMARY KEY,\n",
    "    nome TEXT,\n",
    "    telefone TEXT\n",
    "    );''')\n",
    "\n",
    "cursor.execute('''CREATE TABLE consultas_situacoes(\n",
    "    id BIGSERIAL NOT NULL PRIMARY KEY,\n",
    "    nome TEXT NOT NULL\n",
    "    );''')\n",
    "\n",
    "cursor.execute('''CREATE TABLE cidades(\n",
    "    id BIGSERIAL NOT NULL PRIMARY KEY,\n",
    "    nome TEXT NOT NULL,\n",
    "    estado_sigla TEXT NOT NULL\n",
    "   );''')\n",
    "\n",
    "cursor.execute('''CREATE TABLE consultas(\n",
    "    id BIGSERIAL NOT NULL PRIMARY KEY,\n",
    "    paciente_id BIGINT NOT NULL REFERENCES pacientes(id), \n",
    "    medico_id BIGINT NOT NULL REFERENCES medicos(id), \n",
    "    data_agendamento TIMESTAMP,\n",
    "    situacao_id BIGINT NOT NULL REFERENCES consultas_situacoes(id), \n",
    "    cidade_id BIGINT NOT NULL REFERENCES cidades(id)\n",
    "    );''')\n",
    "\n",
    "conn.commit()\n"
   ]
  },
  {
   "cell_type": "markdown",
   "metadata": {},
   "source": [
    "E agora carregamos os dados na nova base recém criada. Primeiro, a tabela \"medicos\":"
   ]
  },
  {
   "cell_type": "code",
   "execution_count": 12,
   "metadata": {},
   "outputs": [],
   "source": [
    "medicos = list(medicos.itertuples(index = False, name = None))\n",
    "\n",
    "for instancia_medico in medicos:\n",
    "    cursor.execute('INSERT INTO medicos (id, crm, nome, especialidade, telefone) VALUES (%s, %s, %s, %s, %s)', \n",
    "                   instancia_medico)\n",
    "\n",
    "conn.commit()"
   ]
  },
  {
   "cell_type": "markdown",
   "metadata": {},
   "source": [
    "Agora, \"pacientes\":"
   ]
  },
  {
   "cell_type": "code",
   "execution_count": 13,
   "metadata": {},
   "outputs": [],
   "source": [
    "pacientes = list(pacientes.itertuples(index = False, name = None))\n",
    "\n",
    "for instancia_paciente in pacientes:\n",
    "    cursor.execute('INSERT INTO pacientes (id, nome, telefone) VALUES (%s, %s, %s)', \n",
    "                   instancia_paciente)\n",
    "\n",
    "conn.commit()"
   ]
  },
  {
   "cell_type": "markdown",
   "metadata": {},
   "source": [
    "Tabela \"consultas_situacoes\":"
   ]
  },
  {
   "cell_type": "code",
   "execution_count": 14,
   "metadata": {},
   "outputs": [],
   "source": [
    "consultas_situacoes = list(consultas_situacoes.itertuples(index = False, name = None))\n",
    "\n",
    "for instancia_situacao in consultas_situacoes:\n",
    "    cursor.execute('''INSERT INTO consultas_situacoes (id, nome) VALUES (%s, %s)''', instancia_situacao)\n",
    "\n",
    "conn.commit()"
   ]
  },
  {
   "cell_type": "markdown",
   "metadata": {},
   "source": [
    "Tabela \"cidades\":"
   ]
  },
  {
   "cell_type": "code",
   "execution_count": 15,
   "metadata": {},
   "outputs": [],
   "source": [
    "cidades = list(cidades.itertuples(index = False, name = None))\n",
    "\n",
    "for instancia_cidade in cidades:\n",
    "    cursor.execute('INSERT INTO cidades (id, nome, estado_sigla) VALUES (%s, %s, %s)', instancia_cidade)\n",
    "\n",
    "conn.commit()"
   ]
  },
  {
   "cell_type": "markdown",
   "metadata": {},
   "source": [
    "Tabela \"consultas\":"
   ]
  },
  {
   "cell_type": "code",
   "execution_count": 16,
   "metadata": {},
   "outputs": [],
   "source": [
    "consultas = list(consultas.itertuples(index = False, name = None))\n",
    "\n",
    "for instancia_consulta in consultas:\n",
    "    cursor.execute('''INSERT INTO consultas (id, paciente_id, medico_id, data_agendamento, \n",
    "                   situacao_id, cidade_id) VALUES (%s, %s, %s, %s, %s, %s)''', instancia_consulta)\n",
    "\n",
    "conn.commit()"
   ]
  }
 ],
 "metadata": {
  "interpreter": {
   "hash": "2f74ddc8d2044f37b703c488e52360ce828db408a2b52a957743956f15d69838"
  },
  "kernelspec": {
   "display_name": "Python 3.9.1 64-bit ('.venv': venv)",
   "language": "python",
   "name": "python3"
  },
  "language_info": {
   "codemirror_mode": {
    "name": "ipython",
    "version": 3
   },
   "file_extension": ".py",
   "mimetype": "text/x-python",
   "name": "python",
   "nbconvert_exporter": "python",
   "pygments_lexer": "ipython3",
   "version": "3.9.1"
  },
  "orig_nbformat": 4
 },
 "nbformat": 4,
 "nbformat_minor": 2
}
